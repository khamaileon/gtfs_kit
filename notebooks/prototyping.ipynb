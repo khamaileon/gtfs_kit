{
 "cells": [
  {
   "cell_type": "code",
   "execution_count": null,
   "metadata": {},
   "outputs": [],
   "source": [
    "import datetime as dt\n",
    "from collections import OrderedDict\n",
    "import sys, os\n",
    "import dateutil.relativedelta as rd\n",
    "import json\n",
    "from pathlib import Path\n",
    "from typing import List\n",
    "\n",
    "import utm\n",
    "import pandas as pd\n",
    "import numpy as np\n",
    "import geopandas as gpd\n",
    "import shapely.geometry as sg\n",
    "import shapely.ops as so\n",
    "\n",
    "DIR = Path('..')\n",
    "sys.path.append(str(DIR))\n",
    "\n",
    "import gtfs_kit as gk\n",
    "\n",
    "%load_ext autoreload\n",
    "%autoreload 2\n",
    "\n",
    "DATA_DIR = DIR/'data'"
   ]
  },
  {
   "cell_type": "code",
   "execution_count": null,
   "metadata": {},
   "outputs": [],
   "source": [
    "path = DATA_DIR/'cairns_gtfs.zip'\n",
    "cairns = (\n",
    "    gk.read_feed(path, dist_units='km')\n",
    "    .append_dist_to_stop_times()\n",
    ")\n",
    "feed = cairns.append_dist_to_stop_times()\n"
   ]
  },
  {
   "cell_type": "code",
   "execution_count": null,
   "metadata": {},
   "outputs": [],
   "source": [
    "import gtfs_kit.helpers as hp\n",
    "from typing import Optional, Iterable\n",
    "\n",
    "\n",
    "def stop_times_to_geojson(feed, trip_ids) -> dict:\n",
    "    st = (\n",
    "        feed.stop_times\n",
    "        .loc[lambda x: x.trip_id.isin(trip_ids)]\n",
    "        .filter([\n",
    "            \"trip_id\",\n",
    "            \"stop_id\",\n",
    "            \"stop_sequence\",\n",
    "            \"shape_dist_traveled\",\n",
    "            \"arrival_time\", \n",
    "            \"departure_time\",\n",
    "        ])\n",
    "    )\n",
    "    g = (\n",
    "        gk.geometrize_stops(feed, stop_ids=st.stop_id.unique())\n",
    "        .merge(st)\n",
    "        .sort_values([\"trip_id\", \"stop_sequence\"])\n",
    "        .drop_duplicates(subset=[\"trip_id\", \"stop_sequence\"])\n",
    "    )\n",
    "    if g.empty:\n",
    "        result = {\"type\": \"FeatureCollection\", \"features\": []}\n",
    "    else:\n",
    "        result = hp.drop_feature_ids(json.loads(g.to_json()))\n",
    "\n",
    "    return result\n",
    "\n",
    "def trips_to_geojson(\n",
    "    feed: \"Feed\",\n",
    "    trip_ids: Optional[Iterable[str]] = None,\n",
    "    *,\n",
    "    include_stops: bool = False,\n",
    ") -> dict:\n",
    "    \"\"\"\n",
    "    Return a GeoJSON FeatureCollection of LineString features representing the Feed's trips.\n",
    "    The coordinates reference system is the default one for GeoJSON,\n",
    "    namely WGS84.\n",
    "\n",
    "    If ``include_stops``, then include the trip stops as Point features .\n",
    "    If an iterable of trip IDs is given, then subset to those trips.\n",
    "    If the subset is empty, then return a FeatureCollection with an empty list of\n",
    "    features.\n",
    "    If the Feed has no shapes, then raise a ValueError.\n",
    "    If any of the given trip IDs are not found in the feed, then raise a ValueError.\n",
    "    \"\"\"\n",
    "    if trip_ids is None:\n",
    "        return {\"type\": \"FeatureCollection\", \"features\": []}\n",
    "    \n",
    "    D = set(trip_ids) - set(feed.trips.trip_id)\n",
    "    if D:\n",
    "        raise ValueError(f\"Trip IDs {D} not found in feed.\")\n",
    "\n",
    "    # Get trips\n",
    "    g = geometrize_trips(feed, trip_ids=trip_ids)\n",
    "    trips_gj = json.loads(g.to_json())\n",
    "\n",
    "    # Get stops if desired\n",
    "    if include_stops:\n",
    "        st_gj = stop_times_to_geojson(feed, trip_ids)\n",
    "        trips_gj[\"features\"].extend(st_gj[\"features\"])\n",
    "\n",
    "    return hp.drop_feature_ids(trips_gj)\n"
   ]
  },
  {
   "cell_type": "code",
   "execution_count": null,
   "metadata": {},
   "outputs": [],
   "source": [
    "ts = feed.compute_trip_stats()\n",
    "trip_id_1 = ts.loc[lambda x: x.is_loop == 1, \"trip_id\"].iat[0]\n",
    "trip_id_2 = feed.trips.trip_id.iat[0]\n",
    "trip_ids = [trip_id_1, trip_id_2]\n"
   ]
  },
  {
   "cell_type": "code",
   "execution_count": null,
   "metadata": {},
   "outputs": [],
   "source": [
    "feed.map_trips(trip_ids[:1], include_stops=True, include_arrows=True)"
   ]
  },
  {
   "cell_type": "code",
   "execution_count": null,
   "metadata": {},
   "outputs": [],
   "source": [
    "dates = feed.get_first_week()[6:]\n",
    "activity = feed.compute_trip_activity(dates)\n",
    "display(activity)\n",
    "\n",
    "trip_ids = activity.loc[\n",
    "    lambda x: x.filter(dates).sum(axis=1) > 0,\n",
    "    \"trip_id\",\n",
    "]\n",
    "trip_ids"
   ]
  },
  {
   "cell_type": "code",
   "execution_count": null,
   "metadata": {},
   "outputs": [],
   "source": [
    "feed.trips"
   ]
  },
  {
   "cell_type": "code",
   "execution_count": null,
   "metadata": {},
   "outputs": [],
   "source": [
    "dates = feed.get_first_week()[:1] + [\"20010101\"]\n",
    "\n",
    "path = DATA_DIR / \"cairns_screen_lines.geojson\"\n",
    "screen_lines = gpd.read_file(path)\n",
    "f = feed.compute_screen_line_counts(screen_lines, dates)\n",
    "f"
   ]
  },
  {
   "cell_type": "code",
   "execution_count": null,
   "metadata": {},
   "outputs": [],
   "source": [
    "path = DATA_DIR/'cairns_gtfs.zip'\n",
    "gk.list_feed(path)\n",
    "\n"
   ]
  },
  {
   "cell_type": "code",
   "execution_count": null,
   "metadata": {},
   "outputs": [],
   "source": [
    "feed = (\n",
    "    gk.read_feed(path, dist_units='km')\n",
    "    .append_dist_to_stop_times()\n",
    ")\n",
    "feed.describe()"
   ]
  },
  {
   "cell_type": "code",
   "execution_count": null,
   "metadata": {},
   "outputs": [],
   "source": [
    "shapes = feed.geometrize_shapes(use_utm=True)\n",
    "shapes.crs\n",
    "screen_lines = screen_lines.to_crs(shapes.crs)\n",
    "screen_lines"
   ]
  },
  {
   "cell_type": "code",
   "execution_count": null,
   "metadata": {},
   "outputs": [],
   "source": [
    "url = \"http://transitfeeds.com/p/10-15-transit/936/latest/download\"\n",
    "gk.read_feed(url, dist_units=\"km\").describe()"
   ]
  },
  {
   "cell_type": "code",
   "execution_count": null,
   "metadata": {},
   "outputs": [],
   "source": [
    "(\n",
    "    g1.crossing_time.equals(g2.crossing_time),\n",
    "    g1.crossing_direction.equals(g2.orientation)\n",
    ")"
   ]
  },
  {
   "cell_type": "code",
   "execution_count": null,
   "metadata": {},
   "outputs": [],
   "source": [
    "feed.map_routes(feed.routes.route_id.iloc[:4], include_stops=False)\n"
   ]
  },
  {
   "cell_type": "code",
   "execution_count": null,
   "metadata": {},
   "outputs": [],
   "source": []
  }
 ],
 "metadata": {
  "kernelspec": {
   "display_name": "Python 3",
   "language": "python",
   "name": "python3"
  },
  "language_info": {
   "codemirror_mode": {
    "name": "ipython",
    "version": 3
   },
   "file_extension": ".py",
   "mimetype": "text/x-python",
   "name": "python",
   "nbconvert_exporter": "python",
   "pygments_lexer": "ipython3",
   "version": "3.9.4"
  }
 },
 "nbformat": 4,
 "nbformat_minor": 1
}
